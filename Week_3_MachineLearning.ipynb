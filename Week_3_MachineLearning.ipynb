{
  "cells": [
    {
      "cell_type": "markdown",
      "metadata": {
        "colab_type": "text",
        "id": "view-in-github"
      },
      "source": [
        "<a href=\"https://colab.research.google.com/github/IAT-ExploringAI-2024/Week3-ClassicML/blob/main/Week_3_MachineLearning.ipynb\" target=\"_parent\"><img src=\"https://colab.research.google.com/assets/colab-badge.svg\" alt=\"Open In Colab\"/></a>"
      ]
    },
    {
      "cell_type": "code",
      "execution_count": 4,
      "metadata": {
        "colab": {
          "base_uri": "https://localhost:8080/"
        },
        "id": "ywb8NifF9XN3",
        "outputId": "02574e3b-b411-4a94-d624-1abe3bcb3e45"
      },
      "outputs": [
        {
          "ename": "ModuleNotFoundError",
          "evalue": "No module named 'google'",
          "output_type": "error",
          "traceback": [
            "\u001b[0;31m---------------------------------------------------------------------------\u001b[0m",
            "\u001b[0;31mModuleNotFoundError\u001b[0m                       Traceback (most recent call last)",
            "Input \u001b[0;32mIn [4]\u001b[0m, in \u001b[0;36m<module>\u001b[0;34m\u001b[0m\n\u001b[0;32m----> 1\u001b[0m \u001b[38;5;28;01mfrom\u001b[39;00m \u001b[38;5;21;01mgoogle\u001b[39;00m\u001b[38;5;21;01m.\u001b[39;00m\u001b[38;5;21;01mcolab\u001b[39;00m \u001b[38;5;28;01mimport\u001b[39;00m drive\n\u001b[1;32m      2\u001b[0m drive\u001b[38;5;241m.\u001b[39mmount(\u001b[38;5;124m'\u001b[39m\u001b[38;5;124m/content/drive\u001b[39m\u001b[38;5;124m'\u001b[39m)\n",
            "\u001b[0;31mModuleNotFoundError\u001b[0m: No module named 'google'"
          ]
        }
      ],
      "source": [
        "from google.colab import drive\n",
        "drive.mount('/content/drive')"
      ]
    },
    {
      "cell_type": "markdown",
      "metadata": {
        "id": "q5CvOjjrL9gw"
      },
      "source": [
        "<center><h1> Introduction to Audio Classification with Machine Learning Models </h1></center>\n",
        "\n",
        "\n",
        "\n",
        "### Purpose\n",
        "This notebook serves as an introduction to working with audio data for classification problems; it is meant as a learning resource rather than a demonstration of the state-of-the-art. The techniques mentioned in this notebook apply not only to classification problems, but to regression problems and problems dealing with other types of input data as well. I provide an introduction to a few key machine learning models and the logic in choosing their hyperparameters. These objectives are framed by the task of recognizing emotion from snippets of speech audio.\n",
        "\n",
        " Training data should be used strictly for training a model, validation data strictly for tuning a model, and test data strictly to evaluate a model once it is tuned - a model should never be tuned to perform better on test data.\n",
        "\n",
        "\n",
        "\n",
        "\n",
        "\n",
        "Classic machine learning models such as Support Vector Machines (SVM), k Nearest Neighbours (kNN), and Random Forests have distinct advantages to deep neural networks in many tasks."
      ]
    },
    {
      "cell_type": "markdown",
      "metadata": {
        "id": "QQsTfGREL9g1"
      },
      "source": [
        "<!--TABLE OF CONTENTS-->\n",
        "\n",
        "\n",
        "# Table of Contents\n",
        "  - [Intro: Speech Emotion Recognition on the RAVDESS dataset](#Intro:-Speech-Emotion-Recognition-on-the-RAVDESS-dataset)\n",
        "  - [Machine Learning Process Overview](#Machine-Learning-Process-Overview)\n",
        "  - [Feature Extraction](#Feature-Extraction)\n",
        "    - [Load the Dataset and Compute Features](#Load-the-Dataset-and-Compute-Features)\n",
        "    - [Feature Scaling](#Feature-Scaling)\n",
        "  - [Classical Machine Learning Models](#Classical-Machine-Learning-Models)\n",
        "    - [Training: The 80/20 Split and Validation](#Training:-The-80/20-Split-and-Validation)\n",
        "    - [Comparing Models](#Comparing-Models)\n",
        "    - [The Support Vector Machine Classifier](#The-Support-Vector-Machine-Classifier)\n",
        "    - [k Nearest Neighbours](#k-Nearest-Neighbours)\n",
        "    - [Random Forests](#Random-Forests)\n",
        "\n"
      ]
    },
    {
      "cell_type": "markdown",
      "metadata": {
        "id": "hZUcbr4PL9g2",
        "pycharm": {
          "name": "#%% md\n"
        }
      },
      "source": [
        "## Intro: Speech Emotion Recognition on the RAVDESS dataset\n",
        "In this notebook we explore the most common machine learning models, specifically those available off the shelf in scikit-learn.\n",
        "\n",
        "I'm going to use the RAVDESS dataset (Ryerson Audio-Visual Database of Emotional Speech and Song dataset), created by Steven Livingstone and Frank Russo of Ryerson University. <br>\n",
        "[Details of the RAVDESS dataset](https://smartlaboratory.org/ravdess/) <br>\n",
        "[Download the dataset used in this notebook](https://zenodo.org/record/1188976) <br> Scroll half-way down the page and find \"Audio_Speech_Actors_01-24\"<br>\n",
        "\n",
        "We're going to use the audio-only speech portion of the RAVDESS dataset, ~200MB.\n",
        "Audio is sourced from 24 actors (12 male, 12 female) repeating two sentences with\n",
        "a variety of emotions and intensity. We get 1440 speech files (24 actors * 60 recordings per actor). Each audio sample has been rated  by a human 10 times for emotional quality.\n",
        "\n",
        "## Machine Learning Process Overview\n",
        "1. Feature Engineering: Choose and define the properties which our model will use to evaluate the audio files. <br>\n",
        "2. Feature Extraction: Compute the features for each audio file and build a feature matrix representing all audio files. <br>\n",
        "3. Model exploration: Test candidate models that make sense for the properies of the dataset\n",
        "4. Training the MLP Classifier model: Choose and optimize the properties of our model on validation data - hyperparameters and architechture.  <br>\n",
        "5. Evaluate our model's performance: Evaluate our model's accuracy on validation data and score it against test data which it has never seen in training.<br>\n",
        "6. Explore options for improving our model: Is our dataset the right size? Is our model too complex or too simple? <br>\n"
      ]
    },
    {
      "cell_type": "code",
      "execution_count": 38,
      "metadata": {
        "id": "b2IL0uT19_3A"
      },
      "outputs": [],
      "source": [
        "#importing the required libraries\n",
        "\n",
        "import matplotlib.pyplot as plt\n",
        "import pandas as pd\n",
        "import numpy as np\n",
        "import librosa.display\n",
        "import soundfile\n",
        "import os\n",
        "# matplotlib complains about the behaviour of librosa.display, so we'll ignore those warnings:\n",
        "import warnings; warnings.filterwarnings('ignore')"
      ]
    },
    {
      "cell_type": "markdown",
      "metadata": {
        "id": "eu8VPhDmL9hC",
        "pycharm": {
          "name": "#%% md\n"
        }
      },
      "source": [
        "## Feature Extraction\n",
        "We're going to take full advantage of librosa, a Python library enabling audio analysis and feature extraction.\n",
        "Librosa abstracts away all the math and most of the details of mel spectrorgams, chromagrams, and MFCC.\n",
        "Although closely related, we're going to take the Mel Spectrogram, MFCC, and chromagrams of each audio file as separate features to try\n",
        "and have bit more discriminatory power between samples. <br>\n",
        "\n",
        "Let's build our feature extraction functions to get a chromagram, a mel spectorgram, and MFC coefficients for each of our audio files. Because the chromagram, mel spectrogram and MFCCs are calculated on audio frames produced by STFT, we're going to get a matrix back from each function, so we'll take the mean of those matrices to produce a single feature array for each feature and each audio sample, i.e. 3 feature arrays per audio sample.\n",
        "\n",
        "**Chromagram**: Will produce 12 features; One for each of 12 pitch classes\n",
        "\n",
        "**Mel Spectrogram**: Will produce 128 features; We've defined the number of mel frequency bands at n_mels=128\n",
        "\n",
        "**MFCC**: Will produce 40 MFCCs; I've set the number of coefficients to return at n_mfcc=40 which I found to work well"
      ]
    },
    {
      "cell_type": "code",
      "execution_count": 39,
      "metadata": {
        "id": "qTe93WYTL9hD",
        "pycharm": {
          "name": "#%%\n"
        }
      },
      "outputs": [],
      "source": [
        "\n",
        "\n",
        "def feature_chromagram(waveform, sample_rate):\n",
        "    # STFT computed here explicitly; mel spectrogram and MFCC functions do this under the hood\n",
        "    stft_spectrogram=np.abs(librosa.stft(waveform))\n",
        "    # Produce the chromagram for all STFT frames and get the mean of each column of the resulting matrix to create a feature array\n",
        "    chromagram=np.mean(librosa.feature.chroma_stft(S=stft_spectrogram, sr=sample_rate).T,axis=0)\n",
        "    return chromagram\n",
        "\n",
        "def feature_melspectrogram(waveform, sample_rate):\n",
        "    # Produce the mel spectrogram for all STFT frames and get the mean of each column of the resulting matrix to create a feature array\n",
        "    # Using 8khz as upper frequency bound should be enough for most speech classification tasks\n",
        "    melspectrogram=np.mean(librosa.feature.melspectrogram(y=waveform, sr=sample_rate, n_mels=128, fmax=8000).T,axis=0)\n",
        "    return melspectrogram\n",
        "\n",
        "def feature_mfcc(waveform, sample_rate):\n",
        "    # Compute the MFCCs for all STFT frames and get the mean of each column of the resulting matrix to create a feature array\n",
        "    # 40 filterbanks = 40 coefficients\n",
        "    mfc_coefficients=np.mean(librosa.feature.mfcc(y=waveform, sr=sample_rate, n_mfcc=40).T, axis=0)\n",
        "    return mfc_coefficients"
      ]
    },
    {
      "cell_type": "markdown",
      "metadata": {
        "id": "xjFXIfC2L9hD",
        "pycharm": {
          "name": "#%% md\n"
        }
      },
      "source": [
        "We're going to wrap our feature extraction functions so we only have to load each audio file once. After extracting our 3 audio features as NumPy arrays representing a time series, we're going to\n",
        "stack them horizontally to create a single feature array."
      ]
    },
    {
      "cell_type": "code",
      "execution_count": 40,
      "metadata": {
        "id": "f-UK-s6Rhl1F"
      },
      "outputs": [],
      "source": [
        "def preprocess_waveform(waveform):\n",
        "    # If the waveform has 2 channels (stereo), convert it to mono\n",
        "    if len(waveform.shape) > 1:\n",
        "        waveform = librosa.to_mono(waveform)\n",
        "    return waveform"
      ]
    },
    {
      "cell_type": "code",
      "execution_count": 41,
      "metadata": {
        "id": "xPMw9ijJL9hE",
        "pycharm": {
          "name": "#%%\n"
        }
      },
      "outputs": [],
      "source": [
        "def get_features(file):\n",
        "    # load an individual soundfile\n",
        "     with soundfile.SoundFile(file) as audio:\n",
        "        waveform = audio.read(dtype=\"float32\")\n",
        "        sample_rate = audio.samplerate\n",
        "        # make sure the file is mono channel audio\n",
        "        waveform = preprocess_waveform(waveform)\n",
        "        # compute features of soundfile\n",
        "        chromagram = feature_chromagram(waveform, sample_rate)\n",
        "        melspectrogram = feature_melspectrogram(waveform, sample_rate)\n",
        "        mfc_coefficients = feature_mfcc(waveform, sample_rate)\n",
        "\n",
        "        feature_matrix=np.array([])\n",
        "\n",
        "        # Check the shape of chromagram\n",
        "        if chromagram.ndim > 1 and chromagram.shape[1] > 1:\n",
        "            #print(f\"Returning zero vector for chromagram size: {file} (shape: {chromagram.shape})\")\n",
        "            chromagram = np.zeros((12,))  # Return a zero vector of size (12,)\n",
        "\n",
        "        # Check the shape of mel spectrogram\n",
        "        if melspectrogram.ndim > 1 and melspectrogram.shape[1] > 1:\n",
        "            #print(f\"Returning zero vector for mel spectrogram size: {file} (shape: {melspectrogram.shape})\")\n",
        "            melspectrogram = np.zeros((128,))  # Return a zero vector of size (128,)\n",
        "\n",
        "        # Check the shape of MFCC coefficients\n",
        "        if mfc_coefficients.ndim > 1 and mfc_coefficients.shape[1] > 1:\n",
        "            #print(f\"Returning zero vector for MFCC size: {file} (shape: {mfc_coefficients.shape})\")\n",
        "            mfc_coefficients = np.zeros((40,))  # Return a zero vector of size (40,)\n",
        "\n",
        "        # use np.hstack to stack our feature arrays horizontally to create a feature matrix\n",
        "        feature_matrix = np.hstack((chromagram, melspectrogram, mfc_coefficients))\n",
        "\n",
        "        return feature_matrix"
      ]
    },
    {
      "cell_type": "markdown",
      "metadata": {
        "id": "c-C6g6psL9hE",
        "pycharm": {
          "name": "#%% md\n"
        }
      },
      "source": [
        "### Load the Dataset and Compute Features\n",
        "We have to understand the labelling of the RAVDESS dataset to find the ground truth emotion for each sample.\n",
        "Each file is labelled with 7 numbers delimited by a \"-\".\n",
        "Most of the numbers describe metadata about the audio samples such as their format (video and/or audio),\n",
        "whether the audio is a song or statement, which of two statements is being read and by which actor.\n",
        "\n",
        "The third and fourth numbers pertain to the emotional quality of each sample. The third number is in the range of 1-8 with each number representing an emotion.\n",
        "The fourth number is either 1 or 2, representing normal (1) or strong (2) emotional intensity.\n",
        "\n",
        "We're going to define a dictionary based on the third number (emotion) and assign an emotion to each number as specified by the RAVDESS dataset:"
      ]
    },
    {
      "cell_type": "code",
      "execution_count": 42,
      "metadata": {
        "id": "z-Pu_fB7L9hF",
        "pycharm": {
          "name": "#%%\n"
        }
      },
      "outputs": [],
      "source": [
        "#Emotions in the RAVDESS dataset\n",
        "emotions_dict ={\n",
        "  '01':'neutral',\n",
        "  '02':'calm',\n",
        "  '03':'happy',\n",
        "  '04':'sad',\n",
        "  '05':'angry',\n",
        "  '06':'fearful',\n",
        "  '07':'disgust',\n",
        "  '08':'surprised'\n",
        "}"
      ]
    },
    {
      "cell_type": "markdown",
      "metadata": {
        "id": "pTlsUOwXL9hF",
        "pycharm": {
          "name": "#%% md\n"
        }
      },
      "source": [
        "Finally, let's load our entire dataset and compute the features of each audio file:"
      ]
    },
    {
      "cell_type": "code",
      "execution_count": 43,
      "metadata": {
        "id": "mAh2AYMpL9hF",
        "pycharm": {
          "name": "#%%\n"
        }
      },
      "outputs": [],
      "source": [
        "import os, glob\n",
        "\n",
        "def load_data():\n",
        "    X,y=[],[]\n",
        "    count = 0\n",
        "    # for file in glob.glob(\"My Audio Data/*/*.wav\"):\n",
        "    # inputting my new audio data\n",
        "    for file in glob.glob(\"Audio Data/*/*.wav\"):\n",
        "        file_name=os.path.basename(file)\n",
        "        emotion=emotions_dict[file_name.split(\"-\")[2]]\n",
        "        features = get_features(file)\n",
        "        X.append(features)\n",
        "        y.append(emotion)\n",
        "        count += 1\n",
        "        # '\\r' + end='' results in printing over same line\n",
        "        print('\\r' + f' Processed {count}/{1440} audio samples',end=' ')\n",
        "    # Return arrays to plug into sklearn's cross-validation algorithms\n",
        "    return np.array(X), np.array(y)"
      ]
    },
    {
      "cell_type": "markdown",
      "metadata": {
        "id": "3Cf8q4K5L9hG",
        "pycharm": {
          "name": "#%% md\n"
        }
      },
      "source": [
        "Compute the feature matrix and read the emotion labels for the entire dataset.\n",
        "Note that our regressor (independent/explanatory variable), usually denoted X, is named 'features', and our regressand (dependent variable), usually denoted y, is named 'emotions'."
      ]
    },
    {
      "cell_type": "code",
      "execution_count": 44,
      "metadata": {
        "colab": {
          "base_uri": "https://localhost:8080/"
        },
        "id": "XeKE591aL9hG",
        "outputId": "d34ab1f9-d263-493d-99bc-23cd4099a0ed",
        "pycharm": {
          "name": "#%%\n"
        }
      },
      "outputs": [
        {
          "name": "stdout",
          "output_type": "stream",
          "text": [
            " Processed 16/1440 audio samples "
          ]
        }
      ],
      "source": [
        "features, emotions = load_data()"
      ]
    },
    {
      "cell_type": "markdown",
      "metadata": {
        "id": "RVUa7RAuL9hG",
        "pycharm": {
          "name": "#%% md\n"
        }
      },
      "source": [
        "Let's see what the features we extracted look like, **also for saving both the features matrix as well as emotions array, we need to convert them to pandas dataframe.**"
      ]
    },
    {
      "cell_type": "code",
      "execution_count": 45,
      "metadata": {
        "colab": {
          "base_uri": "https://localhost:8080/",
          "height": 475
        },
        "id": "mzxX583yL9hG",
        "outputId": "bb7b68eb-071f-4b11-b890-8d781bb3ea95",
        "pycharm": {
          "name": "#%%\n"
        }
      },
      "outputs": [
        {
          "name": "stdout",
          "output_type": "stream",
          "text": [
            "\n",
            "Audio samples represented: 16\n",
            "Numerical features extracted per sample: 180\n"
          ]
        },
        {
          "data": {
            "text/html": [
              "<div>\n",
              "<style scoped>\n",
              "    .dataframe tbody tr th:only-of-type {\n",
              "        vertical-align: middle;\n",
              "    }\n",
              "\n",
              "    .dataframe tbody tr th {\n",
              "        vertical-align: top;\n",
              "    }\n",
              "\n",
              "    .dataframe thead th {\n",
              "        text-align: right;\n",
              "    }\n",
              "</style>\n",
              "<table border=\"1\" class=\"dataframe\">\n",
              "  <thead>\n",
              "    <tr style=\"text-align: right;\">\n",
              "      <th></th>\n",
              "      <th>0</th>\n",
              "      <th>1</th>\n",
              "      <th>2</th>\n",
              "      <th>3</th>\n",
              "      <th>4</th>\n",
              "      <th>5</th>\n",
              "      <th>6</th>\n",
              "      <th>7</th>\n",
              "      <th>8</th>\n",
              "      <th>9</th>\n",
              "      <th>...</th>\n",
              "      <th>170</th>\n",
              "      <th>171</th>\n",
              "      <th>172</th>\n",
              "      <th>173</th>\n",
              "      <th>174</th>\n",
              "      <th>175</th>\n",
              "      <th>176</th>\n",
              "      <th>177</th>\n",
              "      <th>178</th>\n",
              "      <th>179</th>\n",
              "    </tr>\n",
              "  </thead>\n",
              "  <tbody>\n",
              "    <tr>\n",
              "      <th>0</th>\n",
              "      <td>0.700457</td>\n",
              "      <td>0.642018</td>\n",
              "      <td>0.608101</td>\n",
              "      <td>0.584530</td>\n",
              "      <td>0.570418</td>\n",
              "      <td>0.551724</td>\n",
              "      <td>0.605036</td>\n",
              "      <td>0.666236</td>\n",
              "      <td>0.689869</td>\n",
              "      <td>0.687688</td>\n",
              "      <td>...</td>\n",
              "      <td>0.103283</td>\n",
              "      <td>1.492447</td>\n",
              "      <td>2.218623</td>\n",
              "      <td>4.965518</td>\n",
              "      <td>3.219105</td>\n",
              "      <td>1.788811</td>\n",
              "      <td>1.134330</td>\n",
              "      <td>-0.565679</td>\n",
              "      <td>0.803073</td>\n",
              "      <td>1.390901</td>\n",
              "    </tr>\n",
              "    <tr>\n",
              "      <th>1</th>\n",
              "      <td>0.543906</td>\n",
              "      <td>0.520046</td>\n",
              "      <td>0.564942</td>\n",
              "      <td>0.561526</td>\n",
              "      <td>0.538882</td>\n",
              "      <td>0.545016</td>\n",
              "      <td>0.585338</td>\n",
              "      <td>0.628981</td>\n",
              "      <td>0.658058</td>\n",
              "      <td>0.627661</td>\n",
              "      <td>...</td>\n",
              "      <td>-2.286662</td>\n",
              "      <td>-1.802067</td>\n",
              "      <td>-1.350153</td>\n",
              "      <td>-1.652439</td>\n",
              "      <td>-3.155851</td>\n",
              "      <td>-1.077997</td>\n",
              "      <td>-1.960273</td>\n",
              "      <td>-2.519926</td>\n",
              "      <td>-0.077313</td>\n",
              "      <td>0.468065</td>\n",
              "    </tr>\n",
              "    <tr>\n",
              "      <th>2</th>\n",
              "      <td>0.677047</td>\n",
              "      <td>0.652948</td>\n",
              "      <td>0.630812</td>\n",
              "      <td>0.602880</td>\n",
              "      <td>0.591938</td>\n",
              "      <td>0.609583</td>\n",
              "      <td>0.639499</td>\n",
              "      <td>0.691527</td>\n",
              "      <td>0.758967</td>\n",
              "      <td>0.753961</td>\n",
              "      <td>...</td>\n",
              "      <td>-1.623713</td>\n",
              "      <td>0.207352</td>\n",
              "      <td>-0.952412</td>\n",
              "      <td>1.228358</td>\n",
              "      <td>0.472351</td>\n",
              "      <td>1.769787</td>\n",
              "      <td>2.445091</td>\n",
              "      <td>1.491034</td>\n",
              "      <td>2.465679</td>\n",
              "      <td>0.964970</td>\n",
              "    </tr>\n",
              "    <tr>\n",
              "      <th>3</th>\n",
              "      <td>0.717738</td>\n",
              "      <td>0.688976</td>\n",
              "      <td>0.661765</td>\n",
              "      <td>0.580782</td>\n",
              "      <td>0.585712</td>\n",
              "      <td>0.553052</td>\n",
              "      <td>0.555582</td>\n",
              "      <td>0.578827</td>\n",
              "      <td>0.637662</td>\n",
              "      <td>0.681531</td>\n",
              "      <td>...</td>\n",
              "      <td>-2.337151</td>\n",
              "      <td>0.095161</td>\n",
              "      <td>-1.246878</td>\n",
              "      <td>1.196053</td>\n",
              "      <td>0.538204</td>\n",
              "      <td>1.997815</td>\n",
              "      <td>1.528675</td>\n",
              "      <td>-0.392654</td>\n",
              "      <td>1.526337</td>\n",
              "      <td>-0.822856</td>\n",
              "    </tr>\n",
              "    <tr>\n",
              "      <th>4</th>\n",
              "      <td>0.621289</td>\n",
              "      <td>0.598377</td>\n",
              "      <td>0.595119</td>\n",
              "      <td>0.564073</td>\n",
              "      <td>0.558021</td>\n",
              "      <td>0.536392</td>\n",
              "      <td>0.585515</td>\n",
              "      <td>0.625913</td>\n",
              "      <td>0.672510</td>\n",
              "      <td>0.711730</td>\n",
              "      <td>...</td>\n",
              "      <td>-1.732787</td>\n",
              "      <td>-0.742879</td>\n",
              "      <td>-1.562656</td>\n",
              "      <td>2.414962</td>\n",
              "      <td>2.669540</td>\n",
              "      <td>3.497391</td>\n",
              "      <td>5.120192</td>\n",
              "      <td>2.105886</td>\n",
              "      <td>3.200831</td>\n",
              "      <td>3.477096</td>\n",
              "    </tr>\n",
              "    <tr>\n",
              "      <th>5</th>\n",
              "      <td>0.613515</td>\n",
              "      <td>0.630571</td>\n",
              "      <td>0.624702</td>\n",
              "      <td>0.577855</td>\n",
              "      <td>0.601739</td>\n",
              "      <td>0.645196</td>\n",
              "      <td>0.655912</td>\n",
              "      <td>0.639534</td>\n",
              "      <td>0.606480</td>\n",
              "      <td>0.595761</td>\n",
              "      <td>...</td>\n",
              "      <td>-1.083529</td>\n",
              "      <td>1.126354</td>\n",
              "      <td>-1.633006</td>\n",
              "      <td>-0.387148</td>\n",
              "      <td>-1.156306</td>\n",
              "      <td>-3.353233</td>\n",
              "      <td>-1.495992</td>\n",
              "      <td>-0.822470</td>\n",
              "      <td>-0.906011</td>\n",
              "      <td>-2.402880</td>\n",
              "    </tr>\n",
              "    <tr>\n",
              "      <th>6</th>\n",
              "      <td>0.625755</td>\n",
              "      <td>0.584547</td>\n",
              "      <td>0.561461</td>\n",
              "      <td>0.564099</td>\n",
              "      <td>0.573113</td>\n",
              "      <td>0.555053</td>\n",
              "      <td>0.567949</td>\n",
              "      <td>0.618049</td>\n",
              "      <td>0.650919</td>\n",
              "      <td>0.692239</td>\n",
              "      <td>...</td>\n",
              "      <td>0.822913</td>\n",
              "      <td>1.126712</td>\n",
              "      <td>-0.312318</td>\n",
              "      <td>0.976504</td>\n",
              "      <td>1.301704</td>\n",
              "      <td>1.997364</td>\n",
              "      <td>2.299326</td>\n",
              "      <td>2.800039</td>\n",
              "      <td>3.372141</td>\n",
              "      <td>1.626013</td>\n",
              "    </tr>\n",
              "    <tr>\n",
              "      <th>7</th>\n",
              "      <td>0.636693</td>\n",
              "      <td>0.655666</td>\n",
              "      <td>0.627927</td>\n",
              "      <td>0.597074</td>\n",
              "      <td>0.545520</td>\n",
              "      <td>0.515188</td>\n",
              "      <td>0.516278</td>\n",
              "      <td>0.536111</td>\n",
              "      <td>0.544044</td>\n",
              "      <td>0.530682</td>\n",
              "      <td>...</td>\n",
              "      <td>3.129663</td>\n",
              "      <td>1.762416</td>\n",
              "      <td>-1.589753</td>\n",
              "      <td>0.966438</td>\n",
              "      <td>-0.041959</td>\n",
              "      <td>-0.588570</td>\n",
              "      <td>-1.150020</td>\n",
              "      <td>-1.115216</td>\n",
              "      <td>-0.367039</td>\n",
              "      <td>-1.727343</td>\n",
              "    </tr>\n",
              "    <tr>\n",
              "      <th>8</th>\n",
              "      <td>0.737010</td>\n",
              "      <td>0.730010</td>\n",
              "      <td>0.632580</td>\n",
              "      <td>0.532504</td>\n",
              "      <td>0.479943</td>\n",
              "      <td>0.456962</td>\n",
              "      <td>0.479412</td>\n",
              "      <td>0.508571</td>\n",
              "      <td>0.562548</td>\n",
              "      <td>0.606558</td>\n",
              "      <td>...</td>\n",
              "      <td>6.083456</td>\n",
              "      <td>5.347727</td>\n",
              "      <td>1.302622</td>\n",
              "      <td>4.258343</td>\n",
              "      <td>1.749282</td>\n",
              "      <td>0.896380</td>\n",
              "      <td>0.753066</td>\n",
              "      <td>-0.421769</td>\n",
              "      <td>1.101968</td>\n",
              "      <td>1.254383</td>\n",
              "    </tr>\n",
              "    <tr>\n",
              "      <th>9</th>\n",
              "      <td>0.599878</td>\n",
              "      <td>0.630894</td>\n",
              "      <td>0.658995</td>\n",
              "      <td>0.678172</td>\n",
              "      <td>0.633336</td>\n",
              "      <td>0.569276</td>\n",
              "      <td>0.515688</td>\n",
              "      <td>0.500883</td>\n",
              "      <td>0.511152</td>\n",
              "      <td>0.482679</td>\n",
              "      <td>...</td>\n",
              "      <td>1.703630</td>\n",
              "      <td>1.277813</td>\n",
              "      <td>0.787938</td>\n",
              "      <td>0.835424</td>\n",
              "      <td>-1.296621</td>\n",
              "      <td>-0.930711</td>\n",
              "      <td>-2.106808</td>\n",
              "      <td>-3.022902</td>\n",
              "      <td>-0.829068</td>\n",
              "      <td>-3.781764</td>\n",
              "    </tr>\n",
              "    <tr>\n",
              "      <th>10</th>\n",
              "      <td>0.665300</td>\n",
              "      <td>0.643519</td>\n",
              "      <td>0.586001</td>\n",
              "      <td>0.535727</td>\n",
              "      <td>0.547820</td>\n",
              "      <td>0.573593</td>\n",
              "      <td>0.625085</td>\n",
              "      <td>0.661166</td>\n",
              "      <td>0.673782</td>\n",
              "      <td>0.660560</td>\n",
              "      <td>...</td>\n",
              "      <td>-0.773021</td>\n",
              "      <td>1.757249</td>\n",
              "      <td>-1.023598</td>\n",
              "      <td>0.687532</td>\n",
              "      <td>-0.038985</td>\n",
              "      <td>-0.737550</td>\n",
              "      <td>-1.302248</td>\n",
              "      <td>-0.825890</td>\n",
              "      <td>1.692118</td>\n",
              "      <td>-2.001015</td>\n",
              "    </tr>\n",
              "    <tr>\n",
              "      <th>11</th>\n",
              "      <td>0.640775</td>\n",
              "      <td>0.632035</td>\n",
              "      <td>0.574764</td>\n",
              "      <td>0.584012</td>\n",
              "      <td>0.606420</td>\n",
              "      <td>0.550267</td>\n",
              "      <td>0.517295</td>\n",
              "      <td>0.550074</td>\n",
              "      <td>0.651595</td>\n",
              "      <td>0.735186</td>\n",
              "      <td>...</td>\n",
              "      <td>-0.564482</td>\n",
              "      <td>-0.930862</td>\n",
              "      <td>-1.002292</td>\n",
              "      <td>0.863465</td>\n",
              "      <td>0.088928</td>\n",
              "      <td>1.595409</td>\n",
              "      <td>2.589570</td>\n",
              "      <td>4.214150</td>\n",
              "      <td>4.345600</td>\n",
              "      <td>2.775221</td>\n",
              "    </tr>\n",
              "    <tr>\n",
              "      <th>12</th>\n",
              "      <td>0.647203</td>\n",
              "      <td>0.660514</td>\n",
              "      <td>0.612803</td>\n",
              "      <td>0.511458</td>\n",
              "      <td>0.521177</td>\n",
              "      <td>0.534354</td>\n",
              "      <td>0.502978</td>\n",
              "      <td>0.541790</td>\n",
              "      <td>0.597361</td>\n",
              "      <td>0.610814</td>\n",
              "      <td>...</td>\n",
              "      <td>1.065896</td>\n",
              "      <td>1.740922</td>\n",
              "      <td>1.414146</td>\n",
              "      <td>3.209603</td>\n",
              "      <td>1.513906</td>\n",
              "      <td>1.676869</td>\n",
              "      <td>1.912021</td>\n",
              "      <td>3.022887</td>\n",
              "      <td>4.903411</td>\n",
              "      <td>4.577460</td>\n",
              "    </tr>\n",
              "    <tr>\n",
              "      <th>13</th>\n",
              "      <td>0.626716</td>\n",
              "      <td>0.582867</td>\n",
              "      <td>0.569785</td>\n",
              "      <td>0.573258</td>\n",
              "      <td>0.615381</td>\n",
              "      <td>0.626517</td>\n",
              "      <td>0.612157</td>\n",
              "      <td>0.608319</td>\n",
              "      <td>0.619403</td>\n",
              "      <td>0.612489</td>\n",
              "      <td>...</td>\n",
              "      <td>-0.863669</td>\n",
              "      <td>0.748821</td>\n",
              "      <td>-1.772725</td>\n",
              "      <td>1.315632</td>\n",
              "      <td>0.623155</td>\n",
              "      <td>-0.675206</td>\n",
              "      <td>-2.073021</td>\n",
              "      <td>-1.235029</td>\n",
              "      <td>0.713920</td>\n",
              "      <td>-0.666651</td>\n",
              "    </tr>\n",
              "    <tr>\n",
              "      <th>14</th>\n",
              "      <td>0.719050</td>\n",
              "      <td>0.723817</td>\n",
              "      <td>0.708939</td>\n",
              "      <td>0.637802</td>\n",
              "      <td>0.642288</td>\n",
              "      <td>0.615526</td>\n",
              "      <td>0.599342</td>\n",
              "      <td>0.605117</td>\n",
              "      <td>0.594781</td>\n",
              "      <td>0.605405</td>\n",
              "      <td>...</td>\n",
              "      <td>-1.646797</td>\n",
              "      <td>0.611872</td>\n",
              "      <td>-1.038525</td>\n",
              "      <td>0.866039</td>\n",
              "      <td>-1.320175</td>\n",
              "      <td>-1.918856</td>\n",
              "      <td>-1.281241</td>\n",
              "      <td>-2.442007</td>\n",
              "      <td>-1.175771</td>\n",
              "      <td>-2.491912</td>\n",
              "    </tr>\n",
              "    <tr>\n",
              "      <th>15</th>\n",
              "      <td>0.639524</td>\n",
              "      <td>0.635589</td>\n",
              "      <td>0.588550</td>\n",
              "      <td>0.540981</td>\n",
              "      <td>0.570979</td>\n",
              "      <td>0.578230</td>\n",
              "      <td>0.588153</td>\n",
              "      <td>0.608135</td>\n",
              "      <td>0.652797</td>\n",
              "      <td>0.729934</td>\n",
              "      <td>...</td>\n",
              "      <td>-1.302946</td>\n",
              "      <td>-1.742632</td>\n",
              "      <td>-2.298301</td>\n",
              "      <td>1.813276</td>\n",
              "      <td>1.205165</td>\n",
              "      <td>2.977592</td>\n",
              "      <td>4.396200</td>\n",
              "      <td>4.119987</td>\n",
              "      <td>3.703837</td>\n",
              "      <td>1.665372</td>\n",
              "    </tr>\n",
              "  </tbody>\n",
              "</table>\n",
              "<p>16 rows × 180 columns</p>\n",
              "</div>"
            ],
            "text/plain": [
              "         0         1         2         3         4         5         6    \\\n",
              "0   0.700457  0.642018  0.608101  0.584530  0.570418  0.551724  0.605036   \n",
              "1   0.543906  0.520046  0.564942  0.561526  0.538882  0.545016  0.585338   \n",
              "2   0.677047  0.652948  0.630812  0.602880  0.591938  0.609583  0.639499   \n",
              "3   0.717738  0.688976  0.661765  0.580782  0.585712  0.553052  0.555582   \n",
              "4   0.621289  0.598377  0.595119  0.564073  0.558021  0.536392  0.585515   \n",
              "5   0.613515  0.630571  0.624702  0.577855  0.601739  0.645196  0.655912   \n",
              "6   0.625755  0.584547  0.561461  0.564099  0.573113  0.555053  0.567949   \n",
              "7   0.636693  0.655666  0.627927  0.597074  0.545520  0.515188  0.516278   \n",
              "8   0.737010  0.730010  0.632580  0.532504  0.479943  0.456962  0.479412   \n",
              "9   0.599878  0.630894  0.658995  0.678172  0.633336  0.569276  0.515688   \n",
              "10  0.665300  0.643519  0.586001  0.535727  0.547820  0.573593  0.625085   \n",
              "11  0.640775  0.632035  0.574764  0.584012  0.606420  0.550267  0.517295   \n",
              "12  0.647203  0.660514  0.612803  0.511458  0.521177  0.534354  0.502978   \n",
              "13  0.626716  0.582867  0.569785  0.573258  0.615381  0.626517  0.612157   \n",
              "14  0.719050  0.723817  0.708939  0.637802  0.642288  0.615526  0.599342   \n",
              "15  0.639524  0.635589  0.588550  0.540981  0.570979  0.578230  0.588153   \n",
              "\n",
              "         7         8         9    ...       170       171       172       173  \\\n",
              "0   0.666236  0.689869  0.687688  ...  0.103283  1.492447  2.218623  4.965518   \n",
              "1   0.628981  0.658058  0.627661  ... -2.286662 -1.802067 -1.350153 -1.652439   \n",
              "2   0.691527  0.758967  0.753961  ... -1.623713  0.207352 -0.952412  1.228358   \n",
              "3   0.578827  0.637662  0.681531  ... -2.337151  0.095161 -1.246878  1.196053   \n",
              "4   0.625913  0.672510  0.711730  ... -1.732787 -0.742879 -1.562656  2.414962   \n",
              "5   0.639534  0.606480  0.595761  ... -1.083529  1.126354 -1.633006 -0.387148   \n",
              "6   0.618049  0.650919  0.692239  ...  0.822913  1.126712 -0.312318  0.976504   \n",
              "7   0.536111  0.544044  0.530682  ...  3.129663  1.762416 -1.589753  0.966438   \n",
              "8   0.508571  0.562548  0.606558  ...  6.083456  5.347727  1.302622  4.258343   \n",
              "9   0.500883  0.511152  0.482679  ...  1.703630  1.277813  0.787938  0.835424   \n",
              "10  0.661166  0.673782  0.660560  ... -0.773021  1.757249 -1.023598  0.687532   \n",
              "11  0.550074  0.651595  0.735186  ... -0.564482 -0.930862 -1.002292  0.863465   \n",
              "12  0.541790  0.597361  0.610814  ...  1.065896  1.740922  1.414146  3.209603   \n",
              "13  0.608319  0.619403  0.612489  ... -0.863669  0.748821 -1.772725  1.315632   \n",
              "14  0.605117  0.594781  0.605405  ... -1.646797  0.611872 -1.038525  0.866039   \n",
              "15  0.608135  0.652797  0.729934  ... -1.302946 -1.742632 -2.298301  1.813276   \n",
              "\n",
              "         174       175       176       177       178       179  \n",
              "0   3.219105  1.788811  1.134330 -0.565679  0.803073  1.390901  \n",
              "1  -3.155851 -1.077997 -1.960273 -2.519926 -0.077313  0.468065  \n",
              "2   0.472351  1.769787  2.445091  1.491034  2.465679  0.964970  \n",
              "3   0.538204  1.997815  1.528675 -0.392654  1.526337 -0.822856  \n",
              "4   2.669540  3.497391  5.120192  2.105886  3.200831  3.477096  \n",
              "5  -1.156306 -3.353233 -1.495992 -0.822470 -0.906011 -2.402880  \n",
              "6   1.301704  1.997364  2.299326  2.800039  3.372141  1.626013  \n",
              "7  -0.041959 -0.588570 -1.150020 -1.115216 -0.367039 -1.727343  \n",
              "8   1.749282  0.896380  0.753066 -0.421769  1.101968  1.254383  \n",
              "9  -1.296621 -0.930711 -2.106808 -3.022902 -0.829068 -3.781764  \n",
              "10 -0.038985 -0.737550 -1.302248 -0.825890  1.692118 -2.001015  \n",
              "11  0.088928  1.595409  2.589570  4.214150  4.345600  2.775221  \n",
              "12  1.513906  1.676869  1.912021  3.022887  4.903411  4.577460  \n",
              "13  0.623155 -0.675206 -2.073021 -1.235029  0.713920 -0.666651  \n",
              "14 -1.320175 -1.918856 -1.281241 -2.442007 -1.175771 -2.491912  \n",
              "15  1.205165  2.977592  4.396200  4.119987  3.703837  1.665372  \n",
              "\n",
              "[16 rows x 180 columns]"
            ]
          },
          "execution_count": 45,
          "metadata": {},
          "output_type": "execute_result"
        }
      ],
      "source": [
        "print(f'\\nAudio samples represented: {features.shape[0]}')\n",
        "print(f'Numerical features extracted per sample: {features.shape[1]}')\n",
        "features_df = pd.DataFrame(features) # make it pretty for display\n",
        "\n",
        "\n",
        "#making dataframe for emotions as well\n",
        "emotions_df = pd.DataFrame(emotions) # make it pretty for display\n",
        "\n",
        "features_df"
      ]
    },
    {
      "cell_type": "markdown",
      "metadata": {
        "id": "Tq083zLEL9hH",
        "pycharm": {
          "name": "#%% md\n"
        }
      },
      "source": [
        "We have a matrix of dim 1435 x 180. Looks good - 1435 audio samples, one per row, with a series of\n",
        "180 numerical features for each sample.\n",
        "\n",
        "**Each of the 1435 feature arrays has 180 features composed of 12 chromagram pitch classes + 128 mel spectrogram bands + 40 MFC coefficients.**"
      ]
    },
    {
      "cell_type": "markdown",
      "metadata": {
        "id": "VF2SggHTDqbQ"
      },
      "source": [
        "Now we will save our features matrix and emotions array in excel file we dont have to compute them everytime we run the notebook, we can just load them from the excel file whenever required. Make sure to change the path to according to your drive."
      ]
    },
    {
      "cell_type": "code",
      "execution_count": 46,
      "metadata": {
        "id": "u6H8hc6gDtbp"
      },
      "outputs": [],
      "source": [
        "features_df.to_csv('featuresRavdess.csv')\n",
        "emotions_df.to_csv('emotionsRavdess.csv')\n"
      ]
    },
    {
      "cell_type": "markdown",
      "metadata": {
        "id": "VpE5m-5aEyoB"
      },
      "source": [
        "## Load pre-saved Dataset"
      ]
    },
    {
      "cell_type": "markdown",
      "metadata": {
        "id": "hHPB7dCqEotR"
      },
      "source": [
        "Once saved you only need to load them later by running the cell below, and **skip every cell above** except for the one in which we import libraries."
      ]
    },
    {
      "cell_type": "code",
      "execution_count": 47,
      "metadata": {
        "id": "-8nlJCESEn56"
      },
      "outputs": [],
      "source": [
        "features=pd.read_csv('featuresRavdess.csv',index_col=0)\n",
        "emotions=pd.read_csv('emotionsRavdess.csv',index_col=0)"
      ]
    },
    {
      "cell_type": "markdown",
      "metadata": {
        "id": "4x2dXjybD1NM"
      },
      "source": [
        "let's see if they have been loaded correctly!"
      ]
    },
    {
      "cell_type": "code",
      "execution_count": 48,
      "metadata": {
        "colab": {
          "base_uri": "https://localhost:8080/",
          "height": 235
        },
        "id": "B5Xo1SVMD0qR",
        "outputId": "11d55ba5-56c0-4c71-dc44-04907d2e0186"
      },
      "outputs": [
        {
          "data": {
            "text/html": [
              "<div>\n",
              "<style scoped>\n",
              "    .dataframe tbody tr th:only-of-type {\n",
              "        vertical-align: middle;\n",
              "    }\n",
              "\n",
              "    .dataframe tbody tr th {\n",
              "        vertical-align: top;\n",
              "    }\n",
              "\n",
              "    .dataframe thead th {\n",
              "        text-align: right;\n",
              "    }\n",
              "</style>\n",
              "<table border=\"1\" class=\"dataframe\">\n",
              "  <thead>\n",
              "    <tr style=\"text-align: right;\">\n",
              "      <th></th>\n",
              "      <th>0</th>\n",
              "      <th>1</th>\n",
              "      <th>2</th>\n",
              "      <th>3</th>\n",
              "      <th>4</th>\n",
              "      <th>5</th>\n",
              "      <th>6</th>\n",
              "      <th>7</th>\n",
              "      <th>8</th>\n",
              "      <th>9</th>\n",
              "      <th>...</th>\n",
              "      <th>170</th>\n",
              "      <th>171</th>\n",
              "      <th>172</th>\n",
              "      <th>173</th>\n",
              "      <th>174</th>\n",
              "      <th>175</th>\n",
              "      <th>176</th>\n",
              "      <th>177</th>\n",
              "      <th>178</th>\n",
              "      <th>179</th>\n",
              "    </tr>\n",
              "  </thead>\n",
              "  <tbody>\n",
              "    <tr>\n",
              "      <th>0</th>\n",
              "      <td>0.700457</td>\n",
              "      <td>0.642018</td>\n",
              "      <td>0.608101</td>\n",
              "      <td>0.584530</td>\n",
              "      <td>0.570418</td>\n",
              "      <td>0.551724</td>\n",
              "      <td>0.605036</td>\n",
              "      <td>0.666236</td>\n",
              "      <td>0.689869</td>\n",
              "      <td>0.687688</td>\n",
              "      <td>...</td>\n",
              "      <td>0.103283</td>\n",
              "      <td>1.492447</td>\n",
              "      <td>2.218623</td>\n",
              "      <td>4.965518</td>\n",
              "      <td>3.219104</td>\n",
              "      <td>1.788811</td>\n",
              "      <td>1.134330</td>\n",
              "      <td>-0.565679</td>\n",
              "      <td>0.803072</td>\n",
              "      <td>1.390901</td>\n",
              "    </tr>\n",
              "    <tr>\n",
              "      <th>1</th>\n",
              "      <td>0.543906</td>\n",
              "      <td>0.520046</td>\n",
              "      <td>0.564942</td>\n",
              "      <td>0.561527</td>\n",
              "      <td>0.538882</td>\n",
              "      <td>0.545016</td>\n",
              "      <td>0.585338</td>\n",
              "      <td>0.628981</td>\n",
              "      <td>0.658058</td>\n",
              "      <td>0.627661</td>\n",
              "      <td>...</td>\n",
              "      <td>-2.286662</td>\n",
              "      <td>-1.802067</td>\n",
              "      <td>-1.350153</td>\n",
              "      <td>-1.652439</td>\n",
              "      <td>-3.155851</td>\n",
              "      <td>-1.077997</td>\n",
              "      <td>-1.960273</td>\n",
              "      <td>-2.519926</td>\n",
              "      <td>-0.077313</td>\n",
              "      <td>0.468065</td>\n",
              "    </tr>\n",
              "    <tr>\n",
              "      <th>2</th>\n",
              "      <td>0.677047</td>\n",
              "      <td>0.652948</td>\n",
              "      <td>0.630812</td>\n",
              "      <td>0.602880</td>\n",
              "      <td>0.591938</td>\n",
              "      <td>0.609583</td>\n",
              "      <td>0.639499</td>\n",
              "      <td>0.691527</td>\n",
              "      <td>0.758967</td>\n",
              "      <td>0.753961</td>\n",
              "      <td>...</td>\n",
              "      <td>-1.623713</td>\n",
              "      <td>0.207352</td>\n",
              "      <td>-0.952412</td>\n",
              "      <td>1.228358</td>\n",
              "      <td>0.472351</td>\n",
              "      <td>1.769787</td>\n",
              "      <td>2.445092</td>\n",
              "      <td>1.491034</td>\n",
              "      <td>2.465679</td>\n",
              "      <td>0.964970</td>\n",
              "    </tr>\n",
              "    <tr>\n",
              "      <th>3</th>\n",
              "      <td>0.717738</td>\n",
              "      <td>0.688976</td>\n",
              "      <td>0.661764</td>\n",
              "      <td>0.580782</td>\n",
              "      <td>0.585712</td>\n",
              "      <td>0.553052</td>\n",
              "      <td>0.555582</td>\n",
              "      <td>0.578827</td>\n",
              "      <td>0.637661</td>\n",
              "      <td>0.681531</td>\n",
              "      <td>...</td>\n",
              "      <td>-2.337151</td>\n",
              "      <td>0.095161</td>\n",
              "      <td>-1.246878</td>\n",
              "      <td>1.196053</td>\n",
              "      <td>0.538204</td>\n",
              "      <td>1.997815</td>\n",
              "      <td>1.528675</td>\n",
              "      <td>-0.392654</td>\n",
              "      <td>1.526337</td>\n",
              "      <td>-0.822856</td>\n",
              "    </tr>\n",
              "    <tr>\n",
              "      <th>4</th>\n",
              "      <td>0.621289</td>\n",
              "      <td>0.598377</td>\n",
              "      <td>0.595119</td>\n",
              "      <td>0.564073</td>\n",
              "      <td>0.558021</td>\n",
              "      <td>0.536392</td>\n",
              "      <td>0.585515</td>\n",
              "      <td>0.625913</td>\n",
              "      <td>0.672510</td>\n",
              "      <td>0.711730</td>\n",
              "      <td>...</td>\n",
              "      <td>-1.732787</td>\n",
              "      <td>-0.742879</td>\n",
              "      <td>-1.562656</td>\n",
              "      <td>2.414962</td>\n",
              "      <td>2.669540</td>\n",
              "      <td>3.497391</td>\n",
              "      <td>5.120192</td>\n",
              "      <td>2.105886</td>\n",
              "      <td>3.200831</td>\n",
              "      <td>3.477096</td>\n",
              "    </tr>\n",
              "  </tbody>\n",
              "</table>\n",
              "<p>5 rows × 180 columns</p>\n",
              "</div>"
            ],
            "text/plain": [
              "          0         1         2         3         4         5         6  \\\n",
              "0  0.700457  0.642018  0.608101  0.584530  0.570418  0.551724  0.605036   \n",
              "1  0.543906  0.520046  0.564942  0.561527  0.538882  0.545016  0.585338   \n",
              "2  0.677047  0.652948  0.630812  0.602880  0.591938  0.609583  0.639499   \n",
              "3  0.717738  0.688976  0.661764  0.580782  0.585712  0.553052  0.555582   \n",
              "4  0.621289  0.598377  0.595119  0.564073  0.558021  0.536392  0.585515   \n",
              "\n",
              "          7         8         9  ...       170       171       172       173  \\\n",
              "0  0.666236  0.689869  0.687688  ...  0.103283  1.492447  2.218623  4.965518   \n",
              "1  0.628981  0.658058  0.627661  ... -2.286662 -1.802067 -1.350153 -1.652439   \n",
              "2  0.691527  0.758967  0.753961  ... -1.623713  0.207352 -0.952412  1.228358   \n",
              "3  0.578827  0.637661  0.681531  ... -2.337151  0.095161 -1.246878  1.196053   \n",
              "4  0.625913  0.672510  0.711730  ... -1.732787 -0.742879 -1.562656  2.414962   \n",
              "\n",
              "        174       175       176       177       178       179  \n",
              "0  3.219104  1.788811  1.134330 -0.565679  0.803072  1.390901  \n",
              "1 -3.155851 -1.077997 -1.960273 -2.519926 -0.077313  0.468065  \n",
              "2  0.472351  1.769787  2.445092  1.491034  2.465679  0.964970  \n",
              "3  0.538204  1.997815  1.528675 -0.392654  1.526337 -0.822856  \n",
              "4  2.669540  3.497391  5.120192  2.105886  3.200831  3.477096  \n",
              "\n",
              "[5 rows x 180 columns]"
            ]
          },
          "execution_count": 48,
          "metadata": {},
          "output_type": "execute_result"
        }
      ],
      "source": [
        "features.head()"
      ]
    },
    {
      "cell_type": "markdown",
      "metadata": {
        "id": "esInVDq7L9hT"
      },
      "source": [
        "Let's see the class balance of our dataset:"
      ]
    },
    {
      "cell_type": "code",
      "execution_count": 49,
      "metadata": {
        "colab": {
          "base_uri": "https://localhost:8080/",
          "height": 399
        },
        "id": "Si3OFQe7L9hU",
        "outputId": "c2f3f5ab-1c0c-4d27-e712-ceb075e55617"
      },
      "outputs": [
        {
          "data": {
            "image/png": "[encoded data removed]",
            "text/plain": [
              "<Figure size 2520x288 with 1 Axes>"
            ]
          },
          "metadata": {
            "needs_background": "light"
          },
          "output_type": "display_data"
        }
      ],
      "source": [
        "# plot emotions\n",
        "plt.figure(figsize=(35,4))\n",
        "plt.subplot(1,3,1)\n",
        "#np.unique returns ordered list of unique elements and count of each element\n",
        "emotion_list, count = np.unique(emotions, return_counts=True)\n",
        "plt.bar(x=range(8), height=count)\n",
        "plt.xticks(ticks=range(8), labels = [emotion for emotion in emotion_list],fontsize=10)\n",
        "plt.xlabel('Emotion')\n",
        "plt.tick_params(labelsize=16)\n",
        "plt.ylabel('Number of Samples')\n",
        "plt.show()"
      ]
    },
    {
      "cell_type": "markdown",
      "metadata": {
        "id": "Mw_wKC8WL9hV"
      },
      "source": [
        "**Great, the classes appear to be balanced. That makes the task easier.** All emotions _except_ the neutral class have a \"strong\" intensity so there are half as many neutral samples. That might have an impact."
      ]
    },
    {
      "cell_type": "markdown",
      "metadata": {
        "id": "WhtlYshOL9hV"
      },
      "source": [
        "### Feature Scaling\n",
        "To properly train most machine learning models on _most_ datasets, we first need to scale our features. **This is crucial for models which compute distances between data, and especially critical for DNNs**: If there is a difference in the variance of features simply because of their possible range of values, then a model will learn that the features with the greatest variance are the most important. However, **differences in the variance of unscaled features belonging to different and unknown distributions is an inappropriate measure of importance.** Let's check our features' properties:"
      ]
    },
    {
      "cell_type": "code",
      "execution_count": 50,
      "metadata": {
        "colab": {
          "base_uri": "https://localhost:8080/"
        },
        "id": "_IUm1DLwL9hW",
        "outputId": "dbca9b9e-bae9-4732-e193-ce627f60bcc6"
      },
      "outputs": [
        {
          "name": "stdout",
          "output_type": "stream",
          "text": [
            "12 Chromagram features:           min = 0.457,     max = 0.759,     mean = 0.616,     deviation = 0.065\n",
            "\n",
            "128 Mel Spectrogram features:     min = 0.002,     max = 121.270,     mean = 3.597,     deviation = 9.326\n",
            "\n",
            "40 MFCC features:                 min = -401.694,    max = 128.116,    mean = -6.398,    deviation = 60.171\n"
          ]
        }
      ],
      "source": [
        "# We would usually use df.describe(), but it provides a bit of a mess of information we don't need at the moment.\n",
        "def print_features(df):\n",
        "    # Check chromagram feature values\n",
        "    features_df_chromagram = df.loc[:,:11]\n",
        "    chroma_min = features_df_chromagram.min().min()\n",
        "    chroma_max = features_df_chromagram.max().max()\n",
        "    # stack all features into a single series so we don't get a mean of means or stdev of stdevs\n",
        "    chroma_mean = features_df_chromagram.stack().mean()\n",
        "    chroma_stdev = features_df_chromagram.stack().std()\n",
        "    print(f'12 Chromagram features:       \\\n",
        "    min = {chroma_min:.3f}, \\\n",
        "    max = {chroma_max:.3f}, \\\n",
        "    mean = {chroma_mean:.3f}, \\\n",
        "    deviation = {chroma_stdev:.3f}')\n",
        "\n",
        "    # Check mel spectrogram feature values\n",
        "    features_df_melspectrogram = df.loc[:,12:139]\n",
        "    mel_min = features_df_melspectrogram.min().min()\n",
        "    mel_max = features_df_melspectrogram.max().max()\n",
        "    # stack all features into a single series so we don't get a mean of means or stdev of stdevs\n",
        "    mel_mean = features_df_melspectrogram.stack().mean()\n",
        "    mel_stdev = features_df_melspectrogram.stack().std()\n",
        "    print(f'\\n128 Mel Spectrogram features: \\\n",
        "    min = {mel_min:.3f}, \\\n",
        "    max = {mel_max:.3f}, \\\n",
        "    mean = {mel_mean:.3f}, \\\n",
        "    deviation = {mel_stdev:.3f}')\n",
        "\n",
        "    # Check MFCC feature values\n",
        "    features_df_mfcc = df.loc[:,140:179]\n",
        "    mfcc_min = features_df_mfcc.min().min()\n",
        "    mfcc_max = features_df_mfcc.max().max()\n",
        "    # stack all features into a single series so we don't get a mean of means or stdev of stdevs\n",
        "    mfcc_mean = features_df_mfcc.stack().mean()\n",
        "    mfcc_stdev = features_df_mfcc.stack().std()\n",
        "    print(f'\\n40 MFCC features:             \\\n",
        "    min = {mfcc_min:.3f},\\\n",
        "    max = {mfcc_max:.3f},\\\n",
        "    mean = {mfcc_mean:.3f},\\\n",
        "    deviation = {mfcc_stdev:.3f}')\n",
        "\n",
        "print_features(features_df)"
      ]
    },
    {
      "cell_type": "code",
      "execution_count": null,
      "metadata": {
        "id": "3ha1FxBSCpqA"
      },
      "outputs": [],
      "source": []
    },
    {
      "cell_type": "markdown",
      "metadata": {
        "id": "gFgQlYSlL9hW"
      },
      "source": [
        "**There's an obvious imbalance in the variance our features; Our features indeed belong to very different distributions:** our MFC coefficients' deviation is greater than the other features by orders of magnitude. That does not mean MFC coefficients are the most important feature, but rather it is a property of the way they are computed.  We will certainly need to scale this feature set.\n",
        "\n",
        "We have the choice of sklearn's StandardScaler and MinMaxScaler. Standard scaling subtracts the mean of each feature and divides it by the standard deviation of that feature, producing features with mean at zero and unit variance - that is, a variance and standard deviation of 1. Min-Max scaling transforms each feature to be within a bounded interval that we specify.\n",
        "\n",
        "In practice, **MinMax scaling is especially useful when we know our features should be in a bounded interval**, such as pixel values in [0,255], while **standard scaling is perhaps more practical for features with unknown distributions** because centering the features at zero-mean with a standard deviation of 1 means extreme values will have less of an impact on the model's learned weights, i.e. the model is less sensitive to outliers.\n",
        "\n",
        "We'll create MinMax scaled features as well so we can give them a try later on to confirm that standard scaling is better in the absence of knowledge on the appropriate distribution for a dataset's features."
      ]
    },
    {
      "cell_type": "code",
      "execution_count": 51,
      "metadata": {
        "id": "_BCAYVEUL9hW"
      },
      "outputs": [],
      "source": [
        "from sklearn.preprocessing import StandardScaler\n",
        "from sklearn.preprocessing import MinMaxScaler\n",
        "\n",
        "scaler = StandardScaler()\n",
        "# keep our unscaled features just in case we need to process them alternatively\n",
        "features_scaled = features\n",
        "features_scaled = scaler.fit_transform(features_scaled)\n",
        "\n",
        "scaler = MinMaxScaler()\n",
        "# keep our unscaled features just in case we need to process them alternatively\n",
        "features_minmax = features\n",
        "features_minmax = scaler.fit_transform(features_minmax)"
      ]
    },
    {
      "cell_type": "markdown",
      "metadata": {
        "id": "r4ATx5oNL9hX"
      },
      "source": [
        "Make sure our features are properly scaled:"
      ]
    },
    {
      "cell_type": "code",
      "execution_count": 52,
      "metadata": {
        "colab": {
          "base_uri": "https://localhost:8080/"
        },
        "id": "mlRuHQkKL9hX",
        "outputId": "4bd31c3c-47ed-4f16-d45c-0767ceb48da8"
      },
      "outputs": [
        {
          "name": "stdout",
          "output_type": "stream",
          "text": [
            "\u001b[1mStandard Scaling:\n",
            "\u001b[0m\n",
            "12 Chromagram features:           min = -2.385,     max = 2.568,     mean = -0.000,     deviation = 1.003\n",
            "\n",
            "128 Mel Spectrogram features:     min = -1.826,     max = 3.751,     mean = 0.000,     deviation = 1.000\n",
            "\n",
            "40 MFCC features:                 min = -2.736,    max = 3.026,    mean = -0.000,    deviation = 1.001\n",
            "\n",
            "\n",
            "\u001b[1mMinMax Scaling:\n",
            "\u001b[0m\n",
            "12 Chromagram features:           min = 0.000,     max = 1.000,     mean = 0.529,     deviation = 0.276\n",
            "\n",
            "128 Mel Spectrogram features:     min = 0.000,     max = 1.000,     mean = 0.296,     deviation = 0.295\n",
            "\n",
            "40 MFCC features:                 min = 0.000,    max = 1.000,    mean = 0.453,    deviation = 0.287\n"
          ]
        }
      ],
      "source": [
        "print('\\033[1m'+'Standard Scaling:\\n'+'\\033[0m')\n",
        "features_scaled_df = pd.DataFrame(features_scaled)\n",
        "print_features(features_scaled_df)\n",
        "\n",
        "print('\\n\\n\\033[1m'+'MinMax Scaling:\\n'+'\\033[0m')\n",
        "features_minmax_df = pd.DataFrame(features_minmax)\n",
        "print_features(features_minmax_df)"
      ]
    },
    {
      "cell_type": "markdown",
      "metadata": {
        "id": "vZfzIh7DL9hX"
      },
      "source": [
        "Perfect. Zero mean and unit variance for standard scaling and in the range [0,1] for MinMax scaling - a default when we don't specify values. We can now move on to building predictive models for these features."
      ]
    },
    {
      "cell_type": "markdown",
      "metadata": {
        "id": "z5tXewLEL9hX"
      },
      "source": [
        "## Classical Machine Learning Models\n",
        "\n",
        "\n",
        "Classical machine learning models encompass a broad range of algorithms that have been foundational to the field's development and are still widely used for various predictive tasks. These models can be broadly categorized into supervised and unsupervised learning methods, each suited for different kinds of data and objectives.\n",
        "\n",
        "We will be looking into few popular Machine Learning Algorithms such as Support Vector Machine(SVM), K-Nearest Neighbors and Random Forest Classifier. There are many other classical models with their own strengths and weaknesses, and the choice of model depends on the specific requirements of the task, including the nature of the data, the complexity of the problem, and the computational efficiency required. Despite the rise of deep learning, classical machine learning models remain vital tools in a data scientist's arsenal due to their efficiency, interpretability, and strong performance in many scenarios.\n",
        "\n",
        "The use of classic machine learning method is due to the small size of our dataset; Some of the most robust models such as Support vector (machine) classifiers **(SVC) and k-Nearest-Neighbour classifiers (kNN) are particularly suited to smaller datasets and fall apart with huge datasets.**\n"
      ]
    },
    {
      "cell_type": "markdown",
      "metadata": {
        "id": "jwU-jXSGL9hY"
      },
      "source": [
        "### Training: The 80/20 Split and Validation\n",
        "In order to compare models, we'll have to evaluate their performance. The simplest method to do so is to train a model on a portion of our dataset and test it on the remainder. We'll use sklearn's train_test_split to create a standard 80/20 train/test split. The model is fit on 80% of\n",
        "the data and tested for performance against 20% of the data, which it has never seen in training - also called the hold-out set.\n",
        " <img src=\"https://github.com/IAT-ExploringAI-2024/Week3-Machine_Learning/blob/main/images/Capture2.PNG?raw=true\" width=\"800\">\n",
        "\n",
        "More accurately, the proper modality for training and scoring a model is to\n",
        "1. Fit/train our model on a _training_ set,\n",
        "2. Evaluate the model on a _validation_ set to tune the hyperparameters for better performance,\n",
        "3. Finally score our model's true performance - its **generalizability** - against a _test_ set, aka the hold-out set.\n",
        "4. Repeat from 2. **Do not tune the model to score well on the test set**. Only evaluate on test-set once.\n",
        "\n",
        "Different set ratios are used in this approach - a usual example is 60/20/20 train/validation/test.For simplicity, we're going to start with an 80/20 train/test split. The model will be trained on all the training data, and we will check its performance on the test data. We'll skip validation for now.\n",
        "\n",
        " <img src=\"https://github.com/IAT-ExploringAI-2024/Week3-ClassicML/blob/main/images/traintestsplit.PNG?raw=true\" width=\"800\">\n",
        "\n",
        "Define unscaled and scaled training and test sets:"
      ]
    },
    {
      "cell_type": "code",
      "execution_count": 53,
      "metadata": {
        "id": "8jGN4ROVL9hY"
      },
      "outputs": [],
      "source": [
        "from sklearn.model_selection import train_test_split\n",
        "\n",
        "\n",
        "############# Unscaled test/train set #############\n",
        "X_train, X_test, y_train, y_test =train_test_split(\n",
        "    features,\n",
        "    emotions,\n",
        "    test_size=0.2,\n",
        "    random_state=42\n",
        ")\n",
        "\n",
        "############ Standard Scaled test/train set ###########\n",
        "# The labels/classes (y_train, y_test) never change, keep old values\n",
        "X_train_scaled, X_test_scaled, _, _ = train_test_split(\n",
        "    features_scaled,\n",
        "    emotions,\n",
        "    test_size=0.2,\n",
        "    random_state=42\n",
        ")\n",
        "\n",
        "############# MinMax Scaled test/train set ###############\n",
        "# The labels/classes (y_train, y_test) never change, keep old values\n",
        "X_train_minmax, X_test_minmax, _, _ = train_test_split(\n",
        "    features_scaled,\n",
        "    emotions,\n",
        "    test_size=0.2,\n",
        "    random_state=42\n",
        ")"
      ]
    },
    {
      "cell_type": "markdown",
      "metadata": {
        "id": "Q3Mh0RrEL9hY"
      },
      "source": [
        "### Comparing Models\n",
        "We'll try each off-the-shelf machine learning model from sklearn and pick a few to explore, since these models will train near instantly on this dataset."
      ]
    },
    {
      "cell_type": "code",
      "execution_count": 54,
      "metadata": {
        "colab": {
          "base_uri": "https://localhost:8080/",
          "height": 300
        },
        "id": "iLPeyR7vL9he",
        "outputId": "067b25d8-9f5e-4d9c-f35f-cefcda65090a",
        "scrolled": true
      },
      "outputs": [
        {
          "ename": "ValueError",
          "evalue": "y has only 1 sample in class angry, covariance is ill defined.",
          "output_type": "error",
          "traceback": [
            "\u001b[0;31m---------------------------------------------------------------------------\u001b[0m",
            "\u001b[0;31mValueError\u001b[0m                                Traceback (most recent call last)",
            "Input \u001b[0;32mIn [54]\u001b[0m, in \u001b[0;36m<module>\u001b[0;34m\u001b[0m\n\u001b[1;32m     18\u001b[0m scores \u001b[38;5;241m=\u001b[39m []\n\u001b[1;32m     19\u001b[0m \u001b[38;5;28;01mfor\u001b[39;00m model \u001b[38;5;129;01min\u001b[39;00m classification_models:\n\u001b[0;32m---> 20\u001b[0m     \u001b[43mmodel\u001b[49m\u001b[38;5;241;43m.\u001b[39;49m\u001b[43mfit\u001b[49m\u001b[43m(\u001b[49m\u001b[43mX_train_scaled\u001b[49m\u001b[43m,\u001b[49m\u001b[43m \u001b[49m\u001b[43my_train\u001b[49m\u001b[43m)\u001b[49m\n\u001b[1;32m     21\u001b[0m     score \u001b[38;5;241m=\u001b[39m model\u001b[38;5;241m.\u001b[39mscore(X_test_scaled, y_test)\n\u001b[1;32m     22\u001b[0m     model_name \u001b[38;5;241m=\u001b[39m \u001b[38;5;28mtype\u001b[39m(model)\u001b[38;5;241m.\u001b[39m\u001b[38;5;18m__name__\u001b[39m\n",
            "File \u001b[0;32m~/opt/miniconda3/lib/python3.9/site-packages/sklearn/base.py:1473\u001b[0m, in \u001b[0;36m_fit_context.<locals>.decorator.<locals>.wrapper\u001b[0;34m(estimator, *args, **kwargs)\u001b[0m\n\u001b[1;32m   1466\u001b[0m     estimator\u001b[38;5;241m.\u001b[39m_validate_params()\n\u001b[1;32m   1468\u001b[0m \u001b[38;5;28;01mwith\u001b[39;00m config_context(\n\u001b[1;32m   1469\u001b[0m     skip_parameter_validation\u001b[38;5;241m=\u001b[39m(\n\u001b[1;32m   1470\u001b[0m         prefer_skip_nested_validation \u001b[38;5;129;01mor\u001b[39;00m global_skip_validation\n\u001b[1;32m   1471\u001b[0m     )\n\u001b[1;32m   1472\u001b[0m ):\n\u001b[0;32m-> 1473\u001b[0m     \u001b[38;5;28;01mreturn\u001b[39;00m \u001b[43mfit_method\u001b[49m\u001b[43m(\u001b[49m\u001b[43mestimator\u001b[49m\u001b[43m,\u001b[49m\u001b[43m \u001b[49m\u001b[38;5;241;43m*\u001b[39;49m\u001b[43margs\u001b[49m\u001b[43m,\u001b[49m\u001b[43m \u001b[49m\u001b[38;5;241;43m*\u001b[39;49m\u001b[38;5;241;43m*\u001b[39;49m\u001b[43mkwargs\u001b[49m\u001b[43m)\u001b[49m\n",
            "File \u001b[0;32m~/opt/miniconda3/lib/python3.9/site-packages/sklearn/discriminant_analysis.py:938\u001b[0m, in \u001b[0;36mQuadraticDiscriminantAnalysis.fit\u001b[0;34m(self, X, y)\u001b[0m\n\u001b[1;32m    936\u001b[0m means\u001b[38;5;241m.\u001b[39mappend(meang)\n\u001b[1;32m    937\u001b[0m \u001b[38;5;28;01mif\u001b[39;00m \u001b[38;5;28mlen\u001b[39m(Xg) \u001b[38;5;241m==\u001b[39m \u001b[38;5;241m1\u001b[39m:\n\u001b[0;32m--> 938\u001b[0m     \u001b[38;5;28;01mraise\u001b[39;00m \u001b[38;5;167;01mValueError\u001b[39;00m(\n\u001b[1;32m    939\u001b[0m         \u001b[38;5;124m\"\u001b[39m\u001b[38;5;124my has only 1 sample in class \u001b[39m\u001b[38;5;132;01m%s\u001b[39;00m\u001b[38;5;124m, covariance is ill defined.\u001b[39m\u001b[38;5;124m\"\u001b[39m\n\u001b[1;32m    940\u001b[0m         \u001b[38;5;241m%\u001b[39m \u001b[38;5;28mstr\u001b[39m(\u001b[38;5;28mself\u001b[39m\u001b[38;5;241m.\u001b[39mclasses_[ind])\n\u001b[1;32m    941\u001b[0m     )\n\u001b[1;32m    942\u001b[0m Xgc \u001b[38;5;241m=\u001b[39m Xg \u001b[38;5;241m-\u001b[39m meang\n\u001b[1;32m    943\u001b[0m \u001b[38;5;66;03m# Xgc = U * S * V.T\u001b[39;00m\n",
            "\u001b[0;31mValueError\u001b[0m: y has only 1 sample in class angry, covariance is ill defined."
          ]
        }
      ],
      "source": [
        "from sklearn.neighbors import KNeighborsClassifier\n",
        "from sklearn.svm import SVC\n",
        "from sklearn.tree import DecisionTreeClassifier\n",
        "from sklearn.ensemble import RandomForestClassifier, AdaBoostClassifier\n",
        "from sklearn.naive_bayes import GaussianNB\n",
        "from sklearn.discriminant_analysis import QuadraticDiscriminantAnalysis\n",
        "\n",
        "classification_models = [\n",
        "    KNeighborsClassifier(),#(3),\n",
        "    SVC(kernel='linear'),#, C=0.025),\n",
        "    SVC(kernel='rbf'),\n",
        "    DecisionTreeClassifier(),#max_depth=5),\n",
        "    RandomForestClassifier(),#max_depth=5, n_estimators=10, max_features=1),\n",
        "    AdaBoostClassifier(),\n",
        "    GaussianNB(),\n",
        "    QuadraticDiscriminantAnalysis()]\n",
        "\n",
        "scores = []\n",
        "for model in classification_models:\n",
        "    model.fit(X_train_scaled, y_train)\n",
        "    score = model.score(X_test_scaled, y_test)\n",
        "    model_name = type(model).__name__\n",
        "    if model_name=='SVC' and model.kernel=='rbf': model_name+=' RBF kernel'\n",
        "    scores.append((model_name,(f'{100*score:.2f}%')))\n",
        "# Make it pretty\n",
        "scores_df = pd.DataFrame(scores,columns=['Classifier','Accuracy Score'])\n",
        "scores_df.sort_values(by='Accuracy Score',axis=0,ascending=False)"
      ]
    },
    {
      "cell_type": "markdown",
      "metadata": {
        "id": "JrD98CpPL9he"
      },
      "source": [
        "Let's pick the top three - Random Forests, SVC, and kNN - and take a closer look at each of them."
      ]
    },
    {
      "cell_type": "markdown",
      "metadata": {
        "id": "4dBNoEolL9hf"
      },
      "source": [
        "### The Support Vector Machine Classifier\n",
        "\n",
        "We'll go in chronological order. First is the support vector machine classifier (SVC) - a model from the 60s. SVMs are models quick to train for this task and best suited to small datasets due to its quadratic time complexity w.r.t. size of the training dataset (# of training samples). This is also the reason it breaks down with larger datasets since it becomes very expensive to train.\n",
        "\n",
        "The idea behind SVMs on which the SVC model is based is to find a separating hyperplane - a subspace with dimension one less than that of the feature space - for points in our feature space; i.e. for a 3D space, a hyperplane is a regular plane, in 2D, a line. This idea extends to n dimensions. If points are separable by a hyperplane, they are said to be linearly separable. **Since there are infinite possible separating hyperplanes for any linearly separable feature space, an SVM computes which points are closest to each such hyperplane and uses them to construct a _support vector_. The SVM picks the hyperplane which maximizes the distance - _margin_ - to each support vector.** In this way, we maximize the separating ability of the chosen hyperplane.\n",
        "\n",
        "The core of SVMs is the kernel. We could map all new points from our input space, where they were not separable by a hyperplane, to a higher dimension in which we have found a hyperplane to separate the points in that space. However, that would be extremely computationally expensive for data that needs to be mapped to much higher dimensions. Instead, we **compute the hyperplane in the higher dimension on our training data and map the hyperplane back to the lower-dimension input space to use for classifying our data. This is the _kernel trick_, whereby the kernel (function) enables us to compute distances to new points in the input space without transforming each to the higher dimensional space - drastically reducing the computational complexity of the SVM.**\n",
        "\n",
        " <img src=\"https://github.com/IAT-ExploringAI-2024/Week3-Machine_Learning/blob/main/images/kernel1.png?raw=true\" width=\"800\">"
      ]
    },
    {
      "cell_type": "markdown",
      "metadata": {
        "id": "r-VTE6HjL9hf"
      },
      "source": [
        "A linear kernel should always be tested because **a linear kernel is much faster to train than a non-linear kernel**; however, properly tuned, a non-linear kernel often provides the best possible predictive performance. **RBF (radial basis function) is a good default to use for a non-linear kernel** and often is the best non-linear kernel because it usually provides a higher accuracy compared to other non-linear kernels at the cost of higher computational complexity. We can afford to try the RBF kernel because our dataset is small.\n",
        "\n",
        "If you want to explore further please have a look at [this article](https://www.analyticsvidhya.com/blog/2021/10/support-vector-machinessvm-a-complete-guide-for-beginners/)"
      ]
    },
    {
      "cell_type": "code",
      "execution_count": 25,
      "metadata": {
        "colab": {
          "base_uri": "https://localhost:8080/"
        },
        "id": "ruBbt50ML9hf",
        "outputId": "9f92107e-3784-4ff9-d143-651068f65b7e"
      },
      "outputs": [
        {
          "name": "stdout",
          "output_type": "stream",
          "text": [
            "SVC Model's accuracy on training set is 100.00%\n",
            "SVC Model's accuracy on test set is 0.00%\n"
          ]
        }
      ],
      "source": [
        "from sklearn.svm import SVC\n",
        "\n",
        "model = SVC(\n",
        "    C=10,  #higher the value tighter the margin\n",
        "    gamma='auto',\n",
        "    kernel='rbf',\n",
        "    random_state=42\n",
        ")\n",
        "\n",
        "model.fit(X_train, y_train)\n",
        "\n",
        "print(f'SVC Model\\'s accuracy on training set is {100*model.score(X_train, y_train):.2f}%')\n",
        "print(f'SVC Model\\'s accuracy on test set is {100*model.score(X_test, y_test):.2f}%')"
      ]
    },
    {
      "cell_type": "markdown",
      "metadata": {
        "id": "PIm1a-tiL9hg"
      },
      "source": [
        "Not bad at all for the relatively simple SVC model. **Hyperparameter 𝐶 regulates the margin.** It might do well to optimize the SVC model further if we don't find a better one. As it stands, we are looking for considerably higher performance in this task.\n",
        "\n",
        "Check out [this link](https://towardsdatascience.com/visualizing-the-effect-of-hyperparameters-on-support-vector-machines-b9eef6f7357b) for visual representation of affect of changes in C and gamma."
      ]
    },
    {
      "cell_type": "markdown",
      "metadata": {
        "id": "j72LJRfCL9hg"
      },
      "source": [
        "### k Nearest Neighbours\n",
        "\n",
        "k Nearest Neighbours (kNN) is next in line, a tried-and-true machine learning method from the 70s. kNN makes a lot of intuitive sense: imagine plotting points on a graph and drawing gates around points that look like they belong to the same group. That's what it is - we **plot our training samples' features and compare a test sample's features' distance to all those points; then just take the _k_ closest points to the test sample and pick the most frequent label/class.** That's it.\n",
        "\n",
        "kNN is a great starting point for multiclass problems with small datasets, although on large dadtasets less reliable and extremely memory hungry (it stores all training sample points). kNN is also useful in that it makes **no assumptions about the underlying distribution of the data set - so kNNs work well for both linear and non-linear data.** In the 2D example:\n",
        "\n",
        "<img src=\"https://github.com/IAT-ExploringAI-2024/Week3-ClassicML/blob/main/images/knn.png?raw=true\" width=400 height=400 />"
      ]
    },
    {
      "cell_type": "code",
      "execution_count": 26,
      "metadata": {
        "colab": {
          "base_uri": "https://localhost:8080/"
        },
        "id": "qaeCneMiL9hg",
        "outputId": "5c771b63-ba5d-4ef2-93be-eee445e3332d"
      },
      "outputs": [
        {
          "name": "stdout",
          "output_type": "stream",
          "text": [
            "Default kNN Model's accuracy on training set is 8.33%\n",
            "Default kNN Model's accuracy on test set is 0.00%\n",
            "\n",
            "kNN Model's accuracy on training set is 100.00%\n",
            "kNN Model's accuracy on test set is 0.00%\n"
          ]
        }
      ],
      "source": [
        "from sklearn.neighbors import KNeighborsClassifier\n",
        "\n",
        "####### Default kNN  ########\n",
        "model = KNeighborsClassifier(\n",
        ")\n",
        "\n",
        "model.fit(X_train, y_train)\n",
        "\n",
        "print(f'Default kNN Model\\'s accuracy on training set is {100*model.score(X_train, y_train):.2f}%')\n",
        "print(f'Default kNN Model\\'s accuracy on test set is {100*model.score(X_test, y_test):.2f}%\\n')\n",
        "\n",
        "##### (hastily) tuned kNN ######\n",
        "model = KNeighborsClassifier(\n",
        "    n_neighbors = 5,\n",
        "    weights = 'distance',\n",
        "    algorithm = 'brute',\n",
        "    n_jobs=4\n",
        ")\n",
        "\n",
        "model.fit(X_train, y_train)\n",
        "\n",
        "print(f'kNN Model\\'s accuracy on training set is {100*model.score(X_train, y_train):.2f}%')\n",
        "print(f'kNN Model\\'s accuracy on test set is {100*model.score(X_test, y_test):.2f}%')"
      ]
    },
    {
      "cell_type": "markdown",
      "metadata": {
        "id": "BxVEKUyiL9hh"
      },
      "source": [
        "**The brute-force algorithm computes distances between all pairs of points in the training set; works especially well for small datasets** but wildly inefficient w.r.t. increasing samples and feature space dimension. Not bad for 2 minutes of work, but still not suitable for this task."
      ]
    },
    {
      "cell_type": "markdown",
      "metadata": {
        "id": "zvQ3av4cL9hh"
      },
      "source": [
        "### Random Forests\n",
        "Finally, and before resorting to deep learning methods, let's try a Random Forest -  a model from the 21st century (2001). **We train many distinct decision trees which are essentially directed acyclic graphs (DAGs), somewhat similar to a flow chart. The collection of (decision) trees makes up our Random Forest.**\n",
        "\n",
        "At each node of the tree we have a function (a rule) that evaluates whether the features of samples input to that node belong to one class or another. Each branch of the tree (or, edge of the graph) defines one of two possible results from a node, and each leaf is one of two decisions made by its parent node. **Each tree in the forest evaluates a random subset of the training samples' features and has a rule at each level of the tree that classifies based on these random features - hence, _Random_ Forest. This random selection of features makes Random Forests robust to outliers**, as such features will have less of an impact in the scope of the entire forest, most of whose trees operate on the \"real\" features.\n",
        "\n",
        "**Random Forests are excellent models to use as a benchmark due to their low time complexity to train and because it is an ensemble method, their robustness to unknown distributions and outliers in the dataset,** meaning Random Forests require relatively little exploratory analysis in both the data and training the model to get an idea of their performance in a task.\n",
        "\n",
        "<img src=\"https://github.com/IliaZenkov/sklearn-audio-classification/blob/master/img/randomforest.png?raw=true\" width=500 height=500 />"
      ]
    },
    {
      "cell_type": "code",
      "execution_count": 27,
      "metadata": {},
      "outputs": [
        {
          "name": "stdout",
          "output_type": "stream",
          "text": [
            "Default Random Forest Model's accuracy on training set is 100.00%\n",
            "Default Random Forest Model's accuracy on test set is 0.00%\n",
            "\n",
            "Random Forest Model's accuracy on training set is 100.00%\n",
            "Random Forest Model's accuracy on test set is 0.00%\n"
          ]
        }
      ],
      "source": [
        "from sklearn.ensemble import RandomForestClassifier\n",
        "\n",
        "####### Default Random Forest ########\n",
        "model = RandomForestClassifier(\n",
        "    random_state=69\n",
        ")\n",
        "\n",
        "model.fit(X_train, y_train)\n",
        "\n",
        "print(f'Default Random Forest Model\\'s accuracy on training set is {100*model.score(X_train, y_train):.2f}%')\n",
        "print(f'Default Random Forest Model\\'s accuracy on test set is {100*model.score(X_test, y_test):.2f}%\\n')\n",
        "\n",
        "\n",
        "########## Tuned Random Forest #######\n",
        "model = RandomForestClassifier(\n",
        "    n_estimators = 500,\n",
        "    criterion ='entropy',\n",
        "    warm_start = True,\n",
        "    max_features = 'sqrt',\n",
        "    oob_score = True, # more on this below\n",
        "    random_state=42\n",
        ")\n",
        "\n",
        "model.fit(X_train, y_train)\n",
        "\n",
        "print(f'Random Forest Model\\'s accuracy on training set is {100*model.score(X_train, y_train):.2f}%')\n",
        "print(f'Random Forest Model\\'s accuracy on test set is {100*model.score(X_test, y_test):.2f}%')"
      ]
    },
    {
      "cell_type": "markdown",
      "metadata": {
        "id": "vM9-k8KLL9hi"
      },
      "source": [
        "Not bad for zero effort put into the default model. **Random Forests make a good benchmark model**, especially when strapped for time.\n",
        "\n",
        "**_Max features_ defines size of random feature subset decided upon at each node; sqrt(#features) is a good default for classification.**\n",
        "\n",
        "**_Gini_ and _Entropy_ are functions computing quality of classified samples within each node; they almost always provide similar performance but Entropy is more suited to classification while Gini is better for continuous variables.**\n"
      ]
    },
    {
      "cell_type": "markdown",
      "metadata": {
        "id": "DnhnxuGXL9hi"
      },
      "source": [
        "\n",
        "As wonderful as Random Forests are, it's clear that we're going to need to pull out bigger guns if we want to get appreciable performance on this dataset, perhaps even with good generalizability on test data. DNNs(Deep Neural Networks) are the next step-up in complexity from classical machine learning models, and we will start at the first rung on that ladder:Simple Perceptron in next lab!"
      ]
    }
  ],
  "metadata": {
    "colab": {
      "include_colab_link": true,
      "provenance": []
    },
    "kernelspec": {
      "display_name": "Python 3",
      "language": "python",
      "name": "python3"
    },
    "language_info": {
      "codemirror_mode": {
        "name": "ipython",
        "version": 3
      },
      "file_extension": ".py",
      "mimetype": "text/x-python",
      "name": "python",
      "nbconvert_exporter": "python",
      "pygments_lexer": "ipython3",
      "version": "3.9.5"
    }
  },
  "nbformat": 4,
  "nbformat_minor": 0
}
